{
 "cells": [
  {
   "cell_type": "code",
   "execution_count": 22,
   "id": "9811cd04",
   "metadata": {
    "scrolled": true
   },
   "outputs": [],
   "source": [
    "import pandas as pd\n",
    "import csv\n",
    "import re\n",
    "from sklearn.model_selection import train_test_split\n",
    "from tensorflow.keras.preprocessing.text import Tokenizer\n",
    "from tensorflow.keras.preprocessing.sequence import pad_sequences\n",
    "import tensorflow as tf"
   ]
  },
  {
   "cell_type": "code",
   "execution_count": 2,
   "id": "d118cb9b",
   "metadata": {},
   "outputs": [],
   "source": [
    "# Step 1: Read the CSV file as a single column of text.\n",
    "df = pd.read_csv('train_spooky_author.csv', usecols=[0], header=None, names=['combined'])"
   ]
  },
  {
   "cell_type": "code",
   "execution_count": 3,
   "id": "3d979602",
   "metadata": {},
   "outputs": [],
   "source": [
    "# Define a function to extract id, text, and author using regular expression.\n",
    "def extract_data(row):\n",
    "    # This regular expression looks for a pattern with id followed by numbers,\n",
    "    # then any text within quotes, and ends with an acronym within quotes\n",
    "    match = re.match(r'(id\\d+),\"(.*?)\",\"(\\w+)\"', row)\n",
    "    if match:\n",
    "        return match.groups()\n",
    "    else:\n",
    "        # Return None for rows that do not match the pattern\n",
    "        return [None, None, None]\n"
   ]
  },
  {
   "cell_type": "code",
   "execution_count": 4,
   "id": "0c48f527",
   "metadata": {},
   "outputs": [],
   "source": [
    "# Apply the function to each row\n",
    "extracted_data = df['combined'].apply(extract_data)"
   ]
  },
  {
   "cell_type": "code",
   "execution_count": 5,
   "id": "29397ba0",
   "metadata": {},
   "outputs": [],
   "source": [
    "# Create a new DataFrame from the extracted data\n",
    "df_extracted = pd.DataFrame(extracted_data.tolist(), columns=['id', 'text', 'author'])"
   ]
  },
  {
   "cell_type": "code",
   "execution_count": 6,
   "id": "d5a5cc40",
   "metadata": {},
   "outputs": [
    {
     "data": {
      "text/html": [
       "<div>\n",
       "<style scoped>\n",
       "    .dataframe tbody tr th:only-of-type {\n",
       "        vertical-align: middle;\n",
       "    }\n",
       "\n",
       "    .dataframe tbody tr th {\n",
       "        vertical-align: top;\n",
       "    }\n",
       "\n",
       "    .dataframe thead th {\n",
       "        text-align: right;\n",
       "    }\n",
       "</style>\n",
       "<table border=\"1\" class=\"dataframe\">\n",
       "  <thead>\n",
       "    <tr style=\"text-align: right;\">\n",
       "      <th></th>\n",
       "      <th>id</th>\n",
       "      <th>text</th>\n",
       "      <th>author</th>\n",
       "    </tr>\n",
       "  </thead>\n",
       "  <tbody>\n",
       "    <tr>\n",
       "      <th>0</th>\n",
       "      <td>None</td>\n",
       "      <td>None</td>\n",
       "      <td>None</td>\n",
       "    </tr>\n",
       "    <tr>\n",
       "      <th>1</th>\n",
       "      <td>None</td>\n",
       "      <td>None</td>\n",
       "      <td>None</td>\n",
       "    </tr>\n",
       "    <tr>\n",
       "      <th>2</th>\n",
       "      <td>id17569</td>\n",
       "      <td>It never once occurred to me that the fumbling...</td>\n",
       "      <td>HPL</td>\n",
       "    </tr>\n",
       "    <tr>\n",
       "      <th>3</th>\n",
       "      <td>id11008</td>\n",
       "      <td>In his left hand was a gold snuff box, from wh...</td>\n",
       "      <td>EAP</td>\n",
       "    </tr>\n",
       "    <tr>\n",
       "      <th>4</th>\n",
       "      <td>id27763</td>\n",
       "      <td>How lovely is spring As we looked from Windsor...</td>\n",
       "      <td>MWS</td>\n",
       "    </tr>\n",
       "  </tbody>\n",
       "</table>\n",
       "</div>"
      ],
      "text/plain": [
       "        id                                               text author\n",
       "0     None                                               None   None\n",
       "1     None                                               None   None\n",
       "2  id17569  It never once occurred to me that the fumbling...    HPL\n",
       "3  id11008  In his left hand was a gold snuff box, from wh...    EAP\n",
       "4  id27763  How lovely is spring As we looked from Windsor...    MWS"
      ]
     },
     "execution_count": 6,
     "metadata": {},
     "output_type": "execute_result"
    }
   ],
   "source": [
    "df_extracted.head()"
   ]
  },
  {
   "cell_type": "code",
   "execution_count": 7,
   "id": "eebfba1e",
   "metadata": {},
   "outputs": [],
   "source": [
    "\n",
    "# Drop rows with None values which did not match the pattern\n",
    "df_extracted.dropna(inplace=True)"
   ]
  },
  {
   "cell_type": "code",
   "execution_count": 8,
   "id": "6a82a0c4",
   "metadata": {},
   "outputs": [
    {
     "data": {
      "text/html": [
       "<div>\n",
       "<style scoped>\n",
       "    .dataframe tbody tr th:only-of-type {\n",
       "        vertical-align: middle;\n",
       "    }\n",
       "\n",
       "    .dataframe tbody tr th {\n",
       "        vertical-align: top;\n",
       "    }\n",
       "\n",
       "    .dataframe thead th {\n",
       "        text-align: right;\n",
       "    }\n",
       "</style>\n",
       "<table border=\"1\" class=\"dataframe\">\n",
       "  <thead>\n",
       "    <tr style=\"text-align: right;\">\n",
       "      <th></th>\n",
       "      <th>id</th>\n",
       "      <th>text</th>\n",
       "      <th>author</th>\n",
       "    </tr>\n",
       "  </thead>\n",
       "  <tbody>\n",
       "    <tr>\n",
       "      <th>2</th>\n",
       "      <td>id17569</td>\n",
       "      <td>It never once occurred to me that the fumbling...</td>\n",
       "      <td>HPL</td>\n",
       "    </tr>\n",
       "    <tr>\n",
       "      <th>3</th>\n",
       "      <td>id11008</td>\n",
       "      <td>In his left hand was a gold snuff box, from wh...</td>\n",
       "      <td>EAP</td>\n",
       "    </tr>\n",
       "    <tr>\n",
       "      <th>4</th>\n",
       "      <td>id27763</td>\n",
       "      <td>How lovely is spring As we looked from Windsor...</td>\n",
       "      <td>MWS</td>\n",
       "    </tr>\n",
       "    <tr>\n",
       "      <th>6</th>\n",
       "      <td>id22965</td>\n",
       "      <td>A youth passed in solitude, my best years spen...</td>\n",
       "      <td>MWS</td>\n",
       "    </tr>\n",
       "    <tr>\n",
       "      <th>8</th>\n",
       "      <td>id13515</td>\n",
       "      <td>The surcingle hung in ribands from my body.</td>\n",
       "      <td>EAP</td>\n",
       "    </tr>\n",
       "  </tbody>\n",
       "</table>\n",
       "</div>"
      ],
      "text/plain": [
       "        id                                               text author\n",
       "2  id17569  It never once occurred to me that the fumbling...    HPL\n",
       "3  id11008  In his left hand was a gold snuff box, from wh...    EAP\n",
       "4  id27763  How lovely is spring As we looked from Windsor...    MWS\n",
       "6  id22965  A youth passed in solitude, my best years spen...    MWS\n",
       "8  id13515        The surcingle hung in ribands from my body.    EAP"
      ]
     },
     "execution_count": 8,
     "metadata": {},
     "output_type": "execute_result"
    }
   ],
   "source": [
    "df_extracted.head()"
   ]
  },
  {
   "cell_type": "code",
   "execution_count": 9,
   "id": "2e2a9678",
   "metadata": {},
   "outputs": [],
   "source": [
    "# Reset the index of the DataFrame\n",
    "df_extracted.reset_index(drop=True, inplace=True)"
   ]
  },
  {
   "cell_type": "code",
   "execution_count": 10,
   "id": "0a86dd1b",
   "metadata": {},
   "outputs": [
    {
     "data": {
      "text/html": [
       "<div>\n",
       "<style scoped>\n",
       "    .dataframe tbody tr th:only-of-type {\n",
       "        vertical-align: middle;\n",
       "    }\n",
       "\n",
       "    .dataframe tbody tr th {\n",
       "        vertical-align: top;\n",
       "    }\n",
       "\n",
       "    .dataframe thead th {\n",
       "        text-align: right;\n",
       "    }\n",
       "</style>\n",
       "<table border=\"1\" class=\"dataframe\">\n",
       "  <thead>\n",
       "    <tr style=\"text-align: right;\">\n",
       "      <th></th>\n",
       "      <th>id</th>\n",
       "      <th>text</th>\n",
       "      <th>author</th>\n",
       "    </tr>\n",
       "  </thead>\n",
       "  <tbody>\n",
       "    <tr>\n",
       "      <th>0</th>\n",
       "      <td>id17569</td>\n",
       "      <td>It never once occurred to me that the fumbling...</td>\n",
       "      <td>HPL</td>\n",
       "    </tr>\n",
       "    <tr>\n",
       "      <th>1</th>\n",
       "      <td>id11008</td>\n",
       "      <td>In his left hand was a gold snuff box, from wh...</td>\n",
       "      <td>EAP</td>\n",
       "    </tr>\n",
       "    <tr>\n",
       "      <th>2</th>\n",
       "      <td>id27763</td>\n",
       "      <td>How lovely is spring As we looked from Windsor...</td>\n",
       "      <td>MWS</td>\n",
       "    </tr>\n",
       "    <tr>\n",
       "      <th>3</th>\n",
       "      <td>id22965</td>\n",
       "      <td>A youth passed in solitude, my best years spen...</td>\n",
       "      <td>MWS</td>\n",
       "    </tr>\n",
       "    <tr>\n",
       "      <th>4</th>\n",
       "      <td>id13515</td>\n",
       "      <td>The surcingle hung in ribands from my body.</td>\n",
       "      <td>EAP</td>\n",
       "    </tr>\n",
       "  </tbody>\n",
       "</table>\n",
       "</div>"
      ],
      "text/plain": [
       "        id                                               text author\n",
       "0  id17569  It never once occurred to me that the fumbling...    HPL\n",
       "1  id11008  In his left hand was a gold snuff box, from wh...    EAP\n",
       "2  id27763  How lovely is spring As we looked from Windsor...    MWS\n",
       "3  id22965  A youth passed in solitude, my best years spen...    MWS\n",
       "4  id13515        The surcingle hung in ribands from my body.    EAP"
      ]
     },
     "execution_count": 10,
     "metadata": {},
     "output_type": "execute_result"
    }
   ],
   "source": [
    "# Display the DataFrame to confirm the format\n",
    "df_extracted.head()"
   ]
  },
  {
   "cell_type": "code",
   "execution_count": 11,
   "id": "06868225",
   "metadata": {},
   "outputs": [
    {
     "name": "stdout",
     "output_type": "stream",
     "text": [
      "(15442, 3)\n"
     ]
    }
   ],
   "source": [
    "print(df_extracted.shape)"
   ]
  },
  {
   "cell_type": "code",
   "execution_count": 12,
   "id": "7d749715",
   "metadata": {},
   "outputs": [],
   "source": [
    "# One hot-encoding\n",
    "category = pd.get_dummies(df_extracted.author)\n",
    "df_baru = pd.concat([df_extracted, category], axis=1)\n",
    "df_baru = df_baru.drop(columns=['id','author'])\n",
    "\n",
    "# Convert bolean values to integers 0 or 1\n",
    "df_baru[['EAP', 'HPL', 'MWS']] = df_baru[['EAP', 'HPL', 'MWS']].astype(int)"
   ]
  },
  {
   "cell_type": "code",
   "execution_count": 13,
   "id": "b82d15f2",
   "metadata": {},
   "outputs": [
    {
     "data": {
      "text/html": [
       "<div>\n",
       "<style scoped>\n",
       "    .dataframe tbody tr th:only-of-type {\n",
       "        vertical-align: middle;\n",
       "    }\n",
       "\n",
       "    .dataframe tbody tr th {\n",
       "        vertical-align: top;\n",
       "    }\n",
       "\n",
       "    .dataframe thead th {\n",
       "        text-align: right;\n",
       "    }\n",
       "</style>\n",
       "<table border=\"1\" class=\"dataframe\">\n",
       "  <thead>\n",
       "    <tr style=\"text-align: right;\">\n",
       "      <th></th>\n",
       "      <th>text</th>\n",
       "      <th>EAP</th>\n",
       "      <th>HPL</th>\n",
       "      <th>MWS</th>\n",
       "    </tr>\n",
       "  </thead>\n",
       "  <tbody>\n",
       "    <tr>\n",
       "      <th>0</th>\n",
       "      <td>It never once occurred to me that the fumbling...</td>\n",
       "      <td>0</td>\n",
       "      <td>1</td>\n",
       "      <td>0</td>\n",
       "    </tr>\n",
       "    <tr>\n",
       "      <th>1</th>\n",
       "      <td>In his left hand was a gold snuff box, from wh...</td>\n",
       "      <td>1</td>\n",
       "      <td>0</td>\n",
       "      <td>0</td>\n",
       "    </tr>\n",
       "    <tr>\n",
       "      <th>2</th>\n",
       "      <td>How lovely is spring As we looked from Windsor...</td>\n",
       "      <td>0</td>\n",
       "      <td>0</td>\n",
       "      <td>1</td>\n",
       "    </tr>\n",
       "    <tr>\n",
       "      <th>3</th>\n",
       "      <td>A youth passed in solitude, my best years spen...</td>\n",
       "      <td>0</td>\n",
       "      <td>0</td>\n",
       "      <td>1</td>\n",
       "    </tr>\n",
       "    <tr>\n",
       "      <th>4</th>\n",
       "      <td>The surcingle hung in ribands from my body.</td>\n",
       "      <td>1</td>\n",
       "      <td>0</td>\n",
       "      <td>0</td>\n",
       "    </tr>\n",
       "  </tbody>\n",
       "</table>\n",
       "</div>"
      ],
      "text/plain": [
       "                                                text  EAP  HPL  MWS\n",
       "0  It never once occurred to me that the fumbling...    0    1    0\n",
       "1  In his left hand was a gold snuff box, from wh...    1    0    0\n",
       "2  How lovely is spring As we looked from Windsor...    0    0    1\n",
       "3  A youth passed in solitude, my best years spen...    0    0    1\n",
       "4        The surcingle hung in ribands from my body.    1    0    0"
      ]
     },
     "execution_count": 13,
     "metadata": {},
     "output_type": "execute_result"
    }
   ],
   "source": [
    "df_baru.head()"
   ]
  },
  {
   "cell_type": "code",
   "execution_count": 14,
   "id": "0427c7b3",
   "metadata": {},
   "outputs": [],
   "source": [
    "# convert to Numpy Array\n",
    "text = df_baru['text'].values\n",
    "label = df_baru[['EAP', 'HPL', 'MWS']].values"
   ]
  },
  {
   "cell_type": "code",
   "execution_count": 15,
   "id": "cc23c0fd",
   "metadata": {},
   "outputs": [
    {
     "data": {
      "text/plain": [
       "array(['It never once occurred to me that the fumbling might be a mere mistake.',\n",
       "       'In his left hand was a gold snuff box, from which, as he capered down the hill, cutting all manner of fantastic steps, he took snuff incessantly with an air of the greatest possible self satisfaction.',\n",
       "       'How lovely is spring As we looked from Windsor Terrace on the sixteen fertile counties spread beneath, speckled by happy cottages and wealthier towns, all looked as in former years, heart cheering and fair.',\n",
       "       ...,\n",
       "       'Mais il faut agir that is to say, a Frenchman never faints outright.',\n",
       "       'For an item of news like this, it strikes us it was very coolly received.\"\"',\n",
       "       'He laid a gnarled claw on my shoulder, and it seemed to me that its shaking was not altogether that of mirth.'],\n",
       "      dtype=object)"
      ]
     },
     "execution_count": 15,
     "metadata": {},
     "output_type": "execute_result"
    }
   ],
   "source": [
    "text"
   ]
  },
  {
   "cell_type": "code",
   "execution_count": 16,
   "id": "3f794a1d",
   "metadata": {},
   "outputs": [
    {
     "data": {
      "text/plain": [
       "array([[0, 1, 0],\n",
       "       [1, 0, 0],\n",
       "       [0, 0, 1],\n",
       "       ...,\n",
       "       [1, 0, 0],\n",
       "       [1, 0, 0],\n",
       "       [0, 1, 0]])"
      ]
     },
     "execution_count": 16,
     "metadata": {},
     "output_type": "execute_result"
    }
   ],
   "source": [
    "label"
   ]
  },
  {
   "cell_type": "code",
   "execution_count": 17,
   "id": "bddae2b2",
   "metadata": {},
   "outputs": [],
   "source": [
    "# Divide training data set\n",
    "text_train , text_test, label_train, label_test = train_test_split(text, label, test_size=0.2)"
   ]
  },
  {
   "cell_type": "code",
   "execution_count": 18,
   "id": "3aac856b",
   "metadata": {},
   "outputs": [],
   "source": [
    "# Changing every words into number using Tokenizer\n",
    "tokenizer = Tokenizer(num_words=5000, oov_token='x')\n",
    "tokenizer.fit_on_texts(text_train)\n",
    "tokenizer.fit_on_texts(text_test)\n",
    "\n",
    "Sequence_train = tokenizer.texts_to_sequences(text_train)\n",
    "Sequence_test = tokenizer.texts_to_sequences(text_test)\n",
    "\n",
    "padded_train = pad_sequences(Sequence_train)\n",
    "padded_test = pad_sequences(Sequence_test)\n",
    "\n"
   ]
  },
  {
   "cell_type": "code",
   "execution_count": 19,
   "id": "c04bb630",
   "metadata": {},
   "outputs": [
    {
     "name": "stdout",
     "output_type": "stream",
     "text": [
      "padded_train [[   0    0    0 ...  398   11  695]\n",
      " [   0    0    0 ... 3788    3 4002]\n",
      " [   0    0    0 ...    3 3788  723]\n",
      " ...\n",
      " [   0    0    0 ...  230   19  135]\n",
      " [   0    0    0 ...    5   38  452]\n",
      " [   0    0    0 ...   37 4094  183]]\n"
     ]
    }
   ],
   "source": [
    "print(\"padded_train\", padded_train)"
   ]
  },
  {
   "cell_type": "code",
   "execution_count": 36,
   "id": "57147e83",
   "metadata": {},
   "outputs": [],
   "source": [
    "# Embedding and LSTM\n",
    "model = tf.keras.Sequential([\n",
    "    tf.keras.layers.Embedding(input_dim=5000, output_dim=16),\n",
    "    tf.keras.layers.Dropout(0.5), # Added dropout\n",
    "    tf.keras.layers.LSTM(64),\n",
    "    tf.keras.layers.Dense(128, activation='relu'),\n",
    "    tf.keras.layers.Dropout(0.5), # Added dropout\n",
    "    tf.keras.layers.Dense(64, activation='relu'),\n",
    "    tf.keras.layers.Dropout(0.5), # Added dropout\n",
    "    tf.keras.layers.Dense(3, activation='softmax')\n",
    "])\n",
    "\n",
    "model.compile(loss='categorical_crossentropy', optimizer='adam', metrics=['accuracy'])\n",
    "\n",
    "callback = tf.keras.callbacks.EarlyStopping(monitor='val_loss', patience=5) # Early stopping\n",
    "\n"
   ]
  },
  {
   "cell_type": "code",
   "execution_count": 37,
   "id": "b4dfe5e7",
   "metadata": {},
   "outputs": [
    {
     "name": "stdout",
     "output_type": "stream",
     "text": [
      "Epoch 1/30\n",
      "387/387 - 46s - loss: 0.9502 - accuracy: 0.5426 - val_loss: 0.7434 - val_accuracy: 0.6957 - 46s/epoch - 119ms/step\n",
      "Epoch 2/30\n",
      "387/387 - 45s - loss: 0.6344 - accuracy: 0.7479 - val_loss: 0.6186 - val_accuracy: 0.7504 - 45s/epoch - 116ms/step\n",
      "Epoch 3/30\n",
      "387/387 - 46s - loss: 0.4941 - accuracy: 0.8102 - val_loss: 0.5076 - val_accuracy: 0.7905 - 46s/epoch - 119ms/step\n",
      "Epoch 4/30\n",
      "387/387 - 47s - loss: 0.4320 - accuracy: 0.8353 - val_loss: 0.5172 - val_accuracy: 0.7857 - 47s/epoch - 122ms/step\n",
      "Epoch 5/30\n",
      "387/387 - 45s - loss: 0.3788 - accuracy: 0.8588 - val_loss: 0.5399 - val_accuracy: 0.7863 - 45s/epoch - 116ms/step\n",
      "Epoch 6/30\n",
      "387/387 - 45s - loss: 0.3732 - accuracy: 0.8625 - val_loss: 0.5617 - val_accuracy: 0.7951 - 45s/epoch - 116ms/step\n",
      "Epoch 7/30\n",
      "387/387 - 45s - loss: 0.3253 - accuracy: 0.8796 - val_loss: 0.5446 - val_accuracy: 0.7918 - 45s/epoch - 116ms/step\n",
      "Epoch 8/30\n",
      "387/387 - 45s - loss: 0.3036 - accuracy: 0.8855 - val_loss: 0.5388 - val_accuracy: 0.7912 - 45s/epoch - 117ms/step\n"
     ]
    }
   ],
   "source": [
    "# Training dataset\n",
    "num_epochs = 30\n",
    "history = model.fit(padded_train, label_train, epochs=num_epochs,\n",
    "                    validation_data=(padded_test, label_test), \n",
    "                    callbacks=[callback], # Early stopping callback\n",
    "                    verbose=2)"
   ]
  },
  {
   "cell_type": "code",
   "execution_count": null,
   "id": "79d4244c",
   "metadata": {},
   "outputs": [],
   "source": []
  }
 ],
 "metadata": {
  "kernelspec": {
   "display_name": "Python 3 (ipykernel)",
   "language": "python",
   "name": "python3"
  },
  "language_info": {
   "codemirror_mode": {
    "name": "ipython",
    "version": 3
   },
   "file_extension": ".py",
   "mimetype": "text/x-python",
   "name": "python",
   "nbconvert_exporter": "python",
   "pygments_lexer": "ipython3",
   "version": "3.11.2"
  }
 },
 "nbformat": 4,
 "nbformat_minor": 5
}
